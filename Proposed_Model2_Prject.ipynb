{
  "nbformat": 4,
  "nbformat_minor": 0,
  "metadata": {
    "colab": {
      "provenance": [],
      "gpuType": "T4"
    },
    "kernelspec": {
      "name": "python3",
      "display_name": "Python 3"
    },
    "language_info": {
      "name": "python"
    },
    "accelerator": "GPU",
    "gpuClass": "standard"
  },
  "cells": [
    {
      "cell_type": "markdown",
      "source": [
        "#Proposed Model: COLAB NOTEBOOK (CODE)\n",
        "MD FAIZAN SHAKEEL (19EEB201)\n",
        "SHAMROZ QUADIR (19EEB136)\n",
        "Z.H. COllege of Engineering & Technology ALIGARH MUSLIM UNIVERSITY"
      ],
      "metadata": {
        "id": "HVReierST0x0"
      }
    },
    {
      "cell_type": "code",
      "source": [
        "import os\n",
        "import pandas as pd\n",
        "from PIL import Image\n",
        "import numpy as np\n",
        "import matplotlib.pyplot as plt\n",
        "\n",
        "import tensorflow as tf\n",
        "import cv2\n",
        "\n",
        "\n",
        "import math\n",
        "import random\n",
        "\n",
        "\n",
        "import xml.etree.ElementTree as ET\n",
        "from natsort import natsorted\n",
        "import requests\n",
        "from zipfile import ZipFile\n",
        "from io import BytesIO\n",
        "from six.moves import xrange\n",
        "import collections\n",
        "import string"
      ],
      "metadata": {
        "id": "OsSs_g0vfkrg"
      },
      "execution_count": null,
      "outputs": []
    },
    {
      "cell_type": "markdown",
      "source": [
        "### Fuctions for preprocessing the data"
      ],
      "metadata": {
        "id": "23EzS3ZJlbDC"
      }
    },
    {
      "cell_type": "code",
      "source": [
        "#F1: Creating Df(structured) from XML and Jpeg \n",
        "\n",
        "def Create_dataframe(path):\n",
        "    dirs=natsorted(os.listdir(path))\n",
        "    xml_list=[]\n",
        "    img_list=[]\n",
        "    for i in range(len(dirs)):\n",
        "        if '.xml' in dirs[i]:\n",
        "            xml_list.append(dirs[i])\n",
        "        if not '.xml'  in dirs[i]:\n",
        "            img_list.append(dirs[i])\n",
        "    xml_list=natsorted(xml_list)\n",
        "    img_list=natsorted(img_list)\n",
        "    tirads=[]\n",
        "    for j in range(len(xml_list)):\n",
        "        tree = ET.parse(path+'/'+xml_list[j])\n",
        "        a=tree.findall(\"./tirads\")\n",
        "        if a[-1].text!=None:\n",
        "            case=[xml_list[j],a[-1].text]\n",
        "            tirads.append(case)\n",
        "    data=[]\n",
        "    for k in range(len(tirads)):\n",
        "        xml=tirads[k][0][:-4]\n",
        "        for z in range(len(img_list)):\n",
        "            if xml+'_1.jpg'==img_list[z] or xml+'_2.jpg'==img_list[z] or xml+'_3.jpg'==img_list[z]:\n",
        "                m=[img_list[z],tirads[k][1]]\n",
        "                data.append(m)\n",
        "\n",
        "    df = pd.DataFrame(data,columns =['Jpeg_Name', 'Tirads'])\n",
        "    return df"
      ],
      "metadata": {
        "id": "M1zZzAaffmCm"
      },
      "execution_count": null,
      "outputs": []
    },
    {
      "cell_type": "code",
      "source": [
        "#F2: Cropp Function\n",
        "\n",
        "def croping(img,x, y, w, h):\n",
        "    if abs(w)<abs(h):\n",
        "        img2=np.zeros([h,h])\n",
        "        img2[:,h-w:h]=img[y:y+h, x:x+w]\n",
        "    if abs(h)<abs(w):  \n",
        "        img2=np.zeros([w,w])\n",
        "        img2[w-h:w,:]=img[y:y+h, x:x+w]\n",
        "    else:\n",
        "        return img\n",
        "    return img2\n"
      ],
      "metadata": {
        "id": "Igs5CIl8l_jf"
      },
      "execution_count": null,
      "outputs": []
    },
    {
      "cell_type": "code",
      "source": [
        "#F3:  Convert RGB to grayscale, If some Images are colour \n",
        "\n",
        "def convert_one_channel(img):\n",
        "    #if some images have 3 channels , although they are grayscale image\n",
        "    if len(img.shape)>2:\n",
        "        img=img[:,:,0]\n",
        "        return img\n",
        "    else:\n",
        "        return img"
      ],
      "metadata": {
        "id": "qk74u8cnmHAx"
      },
      "execution_count": null,
      "outputs": []
    },
    {
      "cell_type": "code",
      "source": [
        "#F4:Remove Fill area from Image and Resizeing\n",
        "#Calling F3 and F2\n",
        "#used CV2 \n",
        "\n",
        "def crop_resize(path,resize_shape):\n",
        "    img=plt.imread(path)\n",
        "    img=convert_one_channel(np.asarray(img))        \n",
        "    kernel =( np.ones((5,5), dtype=np.float32))\n",
        "    ret,thresh = cv2.threshold(img, 0, 255, cv2.THRESH_BINARY)\n",
        "    thresh = thresh.astype(np.uint8)\n",
        "    a1,b1=thresh.shape\n",
        "    thresh=cv2.morphologyEx(thresh, cv2.MORPH_OPEN, kernel,iterations=3 )\n",
        "    thresh=cv2.erode(thresh,kernel,iterations =5)\n",
        "    contours, hierarchy = cv2.findContours(thresh.copy(), cv2.RETR_TREE, cv2.CHAIN_APPROX_SIMPLE)\n",
        "    c_area=np.zeros([len(contours)])\n",
        "    for i in range(len(contours)):\n",
        "        c_area[i]= cv2.contourArea(contours[i]) \n",
        "    cnts=contours[np.argmax(c_area)]    \n",
        "    x, y, w, h = cv2.boundingRect(cnts)\n",
        "    roi = croping(img, x, y, w, h)                 #F2\n",
        "    roi=cv2.resize(roi,(resize_shape),interpolation=cv2.INTER_LANCZOS4)\n",
        "    return roi"
      ],
      "metadata": {
        "id": "ruyDOPckmLEL"
      },
      "execution_count": null,
      "outputs": []
    },
    {
      "cell_type": "code",
      "source": [
        "#F5: TO Data Matrix\n",
        "#Calling F4\n",
        "\n",
        "def to_imgmatrix(resize_shape,path,df):\n",
        "    path=path+'/'  \n",
        "    images=crop_resize(path+df[\"Jpeg_Name\"][0],resize_shape)\n",
        "    for i in range (1,len(df[\"Jpeg_Name\"])):\n",
        "        img=crop_resize(path+df[\"Jpeg_Name\"][i],resize_shape)\n",
        "        images=np.concatenate((images,img))\n",
        "    images=np.reshape(images,(len(df[\"Jpeg_Name\"]),resize_shape[0],resize_shape[1],1))\n",
        "    return images"
      ],
      "metadata": {
        "id": "hBkWdEU_mN8H"
      },
      "execution_count": null,
      "outputs": []
    },
    {
      "cell_type": "code",
      "source": [
        "#F6: Prepare_date for train (final Touch)\n",
        "#Calling F1 and F5\n",
        "\n",
        "def prepare_data(path,resize_shape):\n",
        "    df=Create_dataframe(path)\n",
        "    data=to_imgmatrix(resize_shape,path,df) \n",
        "    return df, data"
      ],
      "metadata": {
        "id": "Y3eGK2xSnJ9j"
      },
      "execution_count": null,
      "outputs": []
    },
    {
      "cell_type": "markdown",
      "source": [
        "# Loading and preprocessing data"
      ],
      "metadata": {
        "id": "OBYuhdOgmRla"
      }
    },
    {
      "cell_type": "code",
      "source": [
        "df,data = prepare_data('/content/drive/MyDrive/Final Year Project/TDID_DATASET_FYPROJECT', (256,256))"
      ],
      "metadata": {
        "id": "m4p51z_vmWQ1"
      },
      "execution_count": null,
      "outputs": []
    },
    {
      "cell_type": "code",
      "source": [
        "df[:3]"
      ],
      "metadata": {
        "id": "aEVi3xE7mb0V",
        "colab": {
          "base_uri": "https://localhost:8080/",
          "height": 143
        },
        "outputId": "29ccafcb-419b-4ea3-e6c7-9e757755b378"
      },
      "execution_count": null,
      "outputs": [
        {
          "output_type": "execute_result",
          "data": {
            "text/plain": [
              "  Jpeg_Name Tirads\n",
              "0   2_1.jpg      2\n",
              "1   3_1.jpg     4a\n",
              "2   4_1.jpg     4a"
            ],
            "text/html": [
              "\n",
              "  <div id=\"df-6ce60c64-f374-42e5-a960-6fea078ef008\">\n",
              "    <div class=\"colab-df-container\">\n",
              "      <div>\n",
              "<style scoped>\n",
              "    .dataframe tbody tr th:only-of-type {\n",
              "        vertical-align: middle;\n",
              "    }\n",
              "\n",
              "    .dataframe tbody tr th {\n",
              "        vertical-align: top;\n",
              "    }\n",
              "\n",
              "    .dataframe thead th {\n",
              "        text-align: right;\n",
              "    }\n",
              "</style>\n",
              "<table border=\"1\" class=\"dataframe\">\n",
              "  <thead>\n",
              "    <tr style=\"text-align: right;\">\n",
              "      <th></th>\n",
              "      <th>Jpeg_Name</th>\n",
              "      <th>Tirads</th>\n",
              "    </tr>\n",
              "  </thead>\n",
              "  <tbody>\n",
              "    <tr>\n",
              "      <th>0</th>\n",
              "      <td>2_1.jpg</td>\n",
              "      <td>2</td>\n",
              "    </tr>\n",
              "    <tr>\n",
              "      <th>1</th>\n",
              "      <td>3_1.jpg</td>\n",
              "      <td>4a</td>\n",
              "    </tr>\n",
              "    <tr>\n",
              "      <th>2</th>\n",
              "      <td>4_1.jpg</td>\n",
              "      <td>4a</td>\n",
              "    </tr>\n",
              "  </tbody>\n",
              "</table>\n",
              "</div>\n",
              "      <button class=\"colab-df-convert\" onclick=\"convertToInteractive('df-6ce60c64-f374-42e5-a960-6fea078ef008')\"\n",
              "              title=\"Convert this dataframe to an interactive table.\"\n",
              "              style=\"display:none;\">\n",
              "        \n",
              "  <svg xmlns=\"http://www.w3.org/2000/svg\" height=\"24px\"viewBox=\"0 0 24 24\"\n",
              "       width=\"24px\">\n",
              "    <path d=\"M0 0h24v24H0V0z\" fill=\"none\"/>\n",
              "    <path d=\"M18.56 5.44l.94 2.06.94-2.06 2.06-.94-2.06-.94-.94-2.06-.94 2.06-2.06.94zm-11 1L8.5 8.5l.94-2.06 2.06-.94-2.06-.94L8.5 2.5l-.94 2.06-2.06.94zm10 10l.94 2.06.94-2.06 2.06-.94-2.06-.94-.94-2.06-.94 2.06-2.06.94z\"/><path d=\"M17.41 7.96l-1.37-1.37c-.4-.4-.92-.59-1.43-.59-.52 0-1.04.2-1.43.59L10.3 9.45l-7.72 7.72c-.78.78-.78 2.05 0 2.83L4 21.41c.39.39.9.59 1.41.59.51 0 1.02-.2 1.41-.59l7.78-7.78 2.81-2.81c.8-.78.8-2.07 0-2.86zM5.41 20L4 18.59l7.72-7.72 1.47 1.35L5.41 20z\"/>\n",
              "  </svg>\n",
              "      </button>\n",
              "      \n",
              "  <style>\n",
              "    .colab-df-container {\n",
              "      display:flex;\n",
              "      flex-wrap:wrap;\n",
              "      gap: 12px;\n",
              "    }\n",
              "\n",
              "    .colab-df-convert {\n",
              "      background-color: #E8F0FE;\n",
              "      border: none;\n",
              "      border-radius: 50%;\n",
              "      cursor: pointer;\n",
              "      display: none;\n",
              "      fill: #1967D2;\n",
              "      height: 32px;\n",
              "      padding: 0 0 0 0;\n",
              "      width: 32px;\n",
              "    }\n",
              "\n",
              "    .colab-df-convert:hover {\n",
              "      background-color: #E2EBFA;\n",
              "      box-shadow: 0px 1px 2px rgba(60, 64, 67, 0.3), 0px 1px 3px 1px rgba(60, 64, 67, 0.15);\n",
              "      fill: #174EA6;\n",
              "    }\n",
              "\n",
              "    [theme=dark] .colab-df-convert {\n",
              "      background-color: #3B4455;\n",
              "      fill: #D2E3FC;\n",
              "    }\n",
              "\n",
              "    [theme=dark] .colab-df-convert:hover {\n",
              "      background-color: #434B5C;\n",
              "      box-shadow: 0px 1px 3px 1px rgba(0, 0, 0, 0.15);\n",
              "      filter: drop-shadow(0px 1px 2px rgba(0, 0, 0, 0.3));\n",
              "      fill: #FFFFFF;\n",
              "    }\n",
              "  </style>\n",
              "\n",
              "      <script>\n",
              "        const buttonEl =\n",
              "          document.querySelector('#df-6ce60c64-f374-42e5-a960-6fea078ef008 button.colab-df-convert');\n",
              "        buttonEl.style.display =\n",
              "          google.colab.kernel.accessAllowed ? 'block' : 'none';\n",
              "\n",
              "        async function convertToInteractive(key) {\n",
              "          const element = document.querySelector('#df-6ce60c64-f374-42e5-a960-6fea078ef008');\n",
              "          const dataTable =\n",
              "            await google.colab.kernel.invokeFunction('convertToInteractive',\n",
              "                                                     [key], {});\n",
              "          if (!dataTable) return;\n",
              "\n",
              "          const docLinkHtml = 'Like what you see? Visit the ' +\n",
              "            '<a target=\"_blank\" href=https://colab.research.google.com/notebooks/data_table.ipynb>data table notebook</a>'\n",
              "            + ' to learn more about interactive tables.';\n",
              "          element.innerHTML = '';\n",
              "          dataTable['output_type'] = 'display_data';\n",
              "          await google.colab.output.renderOutput(dataTable, element);\n",
              "          const docLink = document.createElement('div');\n",
              "          docLink.innerHTML = docLinkHtml;\n",
              "          element.appendChild(docLink);\n",
              "        }\n",
              "      </script>\n",
              "    </div>\n",
              "  </div>\n",
              "  "
            ]
          },
          "metadata": {},
          "execution_count": 11
        }
      ]
    },
    {
      "cell_type": "code",
      "source": [
        "# We need numeric category\n",
        "#There are little categories, so i handled manually\n",
        "#only 6 categories(0 to 5):  1 (Benign) | 2 (Benign) | 4a (Malign) | 4b (Malign) | 4c (Malign) | 5 (Malign)\n",
        "\n",
        "def to_categoricalmatrix(df):\n",
        "    Y=np.zeros([len(df[\"Tirads\"])])\n",
        "    for i in range(len(df[\"Tirads\"])):\n",
        "        if df[\"Tirads\"][i]==\"2\":\n",
        "          Y[i]=0\n",
        "        if df[\"Tirads\"][i]==\"3\":\n",
        "          Y[i]=1\n",
        "        if df[\"Tirads\"][i]==\"4a\":\n",
        "          Y[i]=2\n",
        "        if df[\"Tirads\"][i]==\"4b\":\n",
        "          Y[i]=3\n",
        "        if df[\"Tirads\"][i]==\"4c\":\n",
        "          Y[i]=4\n",
        "        if df[\"Tirads\"][i]==\"5\":\n",
        "          Y[i]=5\n",
        "    return Y"
      ],
      "metadata": {
        "id": "rwisaYO1TiGs"
      },
      "execution_count": null,
      "outputs": []
    },
    {
      "cell_type": "code",
      "source": [
        "# 1,2,4a,4b,4c,5 to integer \n",
        "\n",
        "y=to_categoricalmatrix(df) # df causing error so providing  df[0] | we can also use df1\n",
        "y[:8] "
      ],
      "metadata": {
        "colab": {
          "base_uri": "https://localhost:8080/"
        },
        "id": "KBURgfzZTp2C",
        "outputId": "f97c594e-171e-4f29-a9ce-64de5964a286"
      },
      "execution_count": null,
      "outputs": [
        {
          "output_type": "execute_result",
          "data": {
            "text/plain": [
              "array([0., 2., 2., 5., 3., 2., 4., 3.])"
            ]
          },
          "metadata": {},
          "execution_count": 13
        }
      ]
    },
    {
      "cell_type": "code",
      "source": [
        "#  tf.keras.utils.to_categorical  : Converts a class vector (integers) to binary class matrix.\n",
        "# Each image corrosponds to vector of size 6\n",
        "\n",
        "y=tf.keras.utils.to_categorical(y, dtype='float32')\n",
        "y[:8] "
      ],
      "metadata": {
        "colab": {
          "base_uri": "https://localhost:8080/"
        },
        "id": "QW3_FAZeTwnD",
        "outputId": "16495143-5054-4560-c35f-99909e21c194"
      },
      "execution_count": null,
      "outputs": [
        {
          "output_type": "execute_result",
          "data": {
            "text/plain": [
              "array([[1., 0., 0., 0., 0., 0.],\n",
              "       [0., 0., 1., 0., 0., 0.],\n",
              "       [0., 0., 1., 0., 0., 0.],\n",
              "       [0., 0., 0., 0., 0., 1.],\n",
              "       [0., 0., 0., 1., 0., 0.],\n",
              "       [0., 0., 1., 0., 0., 0.],\n",
              "       [0., 0., 0., 0., 1., 0.],\n",
              "       [0., 0., 0., 1., 0., 0.]], dtype=float32)"
            ]
          },
          "metadata": {},
          "execution_count": 14
        }
      ]
    },
    {
      "cell_type": "markdown",
      "source": [
        "## Before Training Our Model we also need to normalize to the images :"
      ],
      "metadata": {
        "id": "7SZ_JHzAUC0V"
      }
    },
    {
      "cell_type": "code",
      "source": [
        "#Image Normalization: Enhancing Data Consistency and Quality\n",
        "#Department of Electrical Engineering Aligarh Muslim University, India.\n",
        "def normalize(data):\n",
        "  for i in range(len(data)):\n",
        "    data[i,:,:,:]=data[i,:,:,:]*(1/np.max(data[i,:,:,:]))\n",
        "  return np.float32(data)\n",
        "  \n",
        "#images are stored in 'Data'\n",
        "X=normalize(data)\n",
        "\n",
        "#Checking\n",
        "X[300:303]"
      ],
      "metadata": {
        "colab": {
          "base_uri": "https://localhost:8080/",
          "height": 235
        },
        "id": "l03xG3xVUD_o",
        "outputId": "52fff23d-7fb0-45b1-e8de-29cc3ddf4a28"
      },
      "execution_count": null,
      "outputs": [
        {
          "output_type": "error",
          "ename": "NameError",
          "evalue": "ignored",
          "traceback": [
            "\u001b[0;31m---------------------------------------------------------------------------\u001b[0m",
            "\u001b[0;31mNameError\u001b[0m                                 Traceback (most recent call last)",
            "\u001b[0;32m<ipython-input-1-84805c453399>\u001b[0m in \u001b[0;36m<cell line: 9>\u001b[0;34m()\u001b[0m\n\u001b[1;32m      7\u001b[0m \u001b[0;34m\u001b[0m\u001b[0m\n\u001b[1;32m      8\u001b[0m \u001b[0;31m#images are stored in 'Data'\u001b[0m\u001b[0;34m\u001b[0m\u001b[0;34m\u001b[0m\u001b[0m\n\u001b[0;32m----> 9\u001b[0;31m \u001b[0mX\u001b[0m\u001b[0;34m=\u001b[0m\u001b[0mnormalize\u001b[0m\u001b[0;34m(\u001b[0m\u001b[0mdata\u001b[0m\u001b[0;34m)\u001b[0m\u001b[0;34m\u001b[0m\u001b[0;34m\u001b[0m\u001b[0m\n\u001b[0m\u001b[1;32m     10\u001b[0m \u001b[0;34m\u001b[0m\u001b[0m\n\u001b[1;32m     11\u001b[0m \u001b[0;31m#Checking\u001b[0m\u001b[0;34m\u001b[0m\u001b[0;34m\u001b[0m\u001b[0m\n",
            "\u001b[0;31mNameError\u001b[0m: name 'data' is not defined"
          ]
        }
      ]
    },
    {
      "cell_type": "markdown",
      "source": [
        "### Train Test and Validation split"
      ],
      "metadata": {
        "id": "f8WyCr9LUelh"
      }
    },
    {
      "cell_type": "code",
      "source": [
        "X_train = np.copy(X[:300,:,:,:])\n",
        "X_test = np.copy(X[313:,:,:,:])\n",
        "X_val = np.copy(X[300:313,:,:,:])\n",
        "\n",
        "\n",
        "y_train = np.copy(y[:300,:])\n",
        "y_test = np.copy(y[313:,:])\n",
        "y_val = np.copy(y[300:313,:])"
      ],
      "metadata": {
        "id": "nkTb_9bKcofB"
      },
      "execution_count": null,
      "outputs": []
    },
    {
      "cell_type": "markdown",
      "source": [
        "## Pre-processing: Data Augmentation:"
      ],
      "metadata": {
        "id": "BWJWc-7rczP_"
      }
    },
    {
      "cell_type": "code",
      "source": [
        "#Data Augmention for to prevent Overfitting and to improve accuracy\n",
        "\n",
        "from tensorflow.keras import layers\n",
        "\n",
        "data_augmentation1 = tf.keras.Sequential([\n",
        " layers.experimental.preprocessing.RandomFlip(\"horizontal\"),\n",
        " layers.experimental.preprocessing.RandomZoom(height_factor=(-0.2, 0.2),fill_mode=\"constant\"),\n",
        " layers.experimental.preprocessing.RandomRotation(factor=(-0.2, 0.2),fill_mode=\"constant\"),\n",
        " tf.keras.layers.experimental.preprocessing.RandomContrast(0.1)])\n",
        "\n",
        "\n",
        "\n",
        "#Now creating New set of training data by (concatinating augmented data)\n",
        "\n",
        "X_train1=data_augmentation1(X_train)\n",
        "y_train1=np.copy(y_train)\n",
        "\n",
        "i=1\n",
        "#22\n",
        "while(i<22):\n",
        "  X_aug=data_augmentation1(X)\n",
        "  X_train1=np.concatenate((X_train1,X_aug),axis=0)\n",
        "  y_aug=np.copy(y)\n",
        "  y_train1=np.concatenate((y_train1,y_aug))\n",
        "\n",
        "  #20\n",
        "  if i == 20:\n",
        "    break\n",
        "  i += 1"
      ],
      "metadata": {
        "id": "ItuZgaIoc04m"
      },
      "execution_count": null,
      "outputs": []
    },
    {
      "cell_type": "code",
      "source": [
        "X_train1.shape"
      ],
      "metadata": {
        "colab": {
          "base_uri": "https://localhost:8080/"
        },
        "id": "JJO_RpjUdNq2",
        "outputId": "0582d71a-0800-43b0-d1ab-ec063b327b65"
      },
      "execution_count": null,
      "outputs": [
        {
          "output_type": "execute_result",
          "data": {
            "text/plain": [
              "(7240, 256, 256, 1)"
            ]
          },
          "metadata": {},
          "execution_count": 44
        }
      ]
    },
    {
      "cell_type": "markdown",
      "source": [
        "# Creating Model: EfficentNetB1"
      ],
      "metadata": {
        "id": "YLk3lHdDf8ZW"
      }
    },
    {
      "cell_type": "code",
      "source": [
        "import tensorflow as tf\n",
        "from tensorflow.keras.applications import EfficientNetB1\n",
        "\n",
        "# Load the pre-trained EfficientNetB1 model\n",
        "base_model = EfficientNetB1(weights='imagenet', include_top=False, input_shape=(256, 256, 3))\n",
        "x = base_model.output\n",
        "f=tf.keras.layers.Flatten(name=\"flatten\")(x)\n",
        "\n",
        "#To prevent overfitting and unbalancing , used regularizer\n",
        "\n",
        "d2=tf.keras.layers.Dense(1024,activation=\"relu\",kernel_regularizer=tf.keras.regularizers.l1_l2(0.00001))(f)\n",
        "dp9=tf.keras.layers.Dropout(0.5)(d2)\n",
        "d3=tf.keras.layers.Dense(1024,activation=\"relu\")(f)\n",
        "dp10=tf.keras.layers.Dropout(0.5)(d2)\n",
        "\n",
        "final=tf.keras.layers.Dense(6,activation=\"softmax\")(dp10)\n",
        "\n",
        "model = tf.keras.Model( inputs =[ base_model.input], outputs = final)"
      ],
      "metadata": {
        "id": "xB3ZgUXOeuTR",
        "colab": {
          "base_uri": "https://localhost:8080/"
        },
        "outputId": "2015d751-a83d-4272-9380-1b0eb3070494"
      },
      "execution_count": null,
      "outputs": [
        {
          "output_type": "stream",
          "name": "stdout",
          "text": [
            "Downloading data from https://storage.googleapis.com/keras-applications/efficientnetb1_notop.h5\n",
            "27018416/27018416 [==============================] - 0s 0us/step\n"
          ]
        }
      ]
    },
    {
      "cell_type": "code",
      "source": [
        "metrics = tf.keras.metrics.AUC(\n",
        "    num_thresholds=200, curve='ROC',\n",
        "    summation_method='interpolation'\n",
        ")\n",
        "\n",
        "#categorical_crossentropy\n",
        "model.compile(optimizer=tf.keras.optimizers.Adam(learning_rate=0.0001),\n",
        "              loss=\"categorical_crossentropy\",\n",
        "              metrics=metrics)\n",
        "\n",
        "def lr_scheduler(epoch, lr):\n",
        "    decay_rate = 0.1\n",
        "    decay_step = 15\n",
        "    if epoch % decay_step == 0 and epoch:\n",
        "        return lr * decay_rate\n",
        "    return lr\n",
        "\n",
        "#after each 15 epochs , we want to decrease learning rate for converge to model\n",
        "lr_call = tf.keras.callbacks.LearningRateScheduler(lr_scheduler)\n",
        "epochs=35\n",
        "\n",
        "history=model.fit(x=[X_train1],y=[y_train1],batch_size=16,epochs=epochs,callbacks=[lr_call],validation_data=(X_val,y_val))"
      ],
      "metadata": {
        "id": "ELIslZrZe9y7",
        "colab": {
          "base_uri": "https://localhost:8080/"
        },
        "outputId": "62c13052-febf-4301-f47f-9687fcea2b9a"
      },
      "execution_count": null,
      "outputs": [
        {
          "output_type": "stream",
          "name": "stdout",
          "text": [
            "Epoch 1/35\n",
            "453/453 [==============================] - 191s 275ms/step - loss: 1.0547 - auc_1: 0.9971 - val_loss: 12338.7695 - val_auc_1: 0.4923 - lr: 1.0000e-04\n",
            "Epoch 2/35\n",
            "453/453 [==============================] - 124s 273ms/step - loss: 1.3284 - auc_1: 0.9978 - val_loss: 3.1712 - val_auc_1: 0.7118 - lr: 1.0000e-04\n",
            "Epoch 3/35\n",
            "453/453 [==============================] - 125s 275ms/step - loss: 1.0338 - auc_1: 0.9985 - val_loss: 28203.7988 - val_auc_1: 0.5385 - lr: 1.0000e-04\n",
            "Epoch 4/35\n",
            "453/453 [==============================] - 125s 276ms/step - loss: 1.2584 - auc_1: 0.9980 - val_loss: 99908.2344 - val_auc_1: 0.4923 - lr: 1.0000e-04\n",
            "Epoch 5/35\n",
            "453/453 [==============================] - 125s 276ms/step - loss: 1.4591 - auc_1: 0.9969 - val_loss: 4.1809 - val_auc_1: 0.6355 - lr: 1.0000e-04\n",
            "Epoch 6/35\n",
            "453/453 [==============================] - 125s 276ms/step - loss: 1.0561 - auc_1: 0.9987 - val_loss: 3.2057 - val_auc_1: 0.6231 - lr: 1.0000e-04\n",
            "Epoch 7/35\n",
            "453/453 [==============================] - 125s 276ms/step - loss: 0.8146 - auc_1: 0.9991 - val_loss: 3.0445 - val_auc_1: 0.5207 - lr: 1.0000e-04\n",
            "Epoch 8/35\n",
            "453/453 [==============================] - 125s 276ms/step - loss: 0.7380 - auc_1: 0.9990 - val_loss: 66765.4844 - val_auc_1: 0.4000 - lr: 1.0000e-04\n",
            "Epoch 9/35\n",
            "453/453 [==============================] - 125s 277ms/step - loss: 1.1710 - auc_1: 0.9978 - val_loss: 6.1488 - val_auc_1: 0.3828 - lr: 1.0000e-04\n",
            "Epoch 10/35\n",
            "453/453 [==============================] - 125s 276ms/step - loss: 1.2542 - auc_1: 0.9977 - val_loss: 14145.0068 - val_auc_1: 0.5385 - lr: 1.0000e-04\n",
            "Epoch 11/35\n",
            "453/453 [==============================] - 125s 276ms/step - loss: 0.8717 - auc_1: 0.9995 - val_loss: 944.0507 - val_auc_1: 0.4000 - lr: 1.0000e-04\n",
            "Epoch 12/35\n",
            "453/453 [==============================] - 125s 277ms/step - loss: 0.8344 - auc_1: 0.9988 - val_loss: 109430.8594 - val_auc_1: 0.4000 - lr: 1.0000e-04\n",
            "Epoch 13/35\n",
            "453/453 [==============================] - 125s 276ms/step - loss: 0.5446 - auc_1: 0.9999 - val_loss: 1.8703 - val_auc_1: 0.7574 - lr: 1.0000e-04\n",
            "Epoch 14/35\n",
            "453/453 [==============================] - 125s 277ms/step - loss: 0.6189 - auc_1: 0.9994 - val_loss: 2.3047 - val_auc_1: 0.8686 - lr: 1.0000e-04\n",
            "Epoch 15/35\n",
            "453/453 [==============================] - 125s 277ms/step - loss: 0.9418 - auc_1: 0.9986 - val_loss: 3196.2812 - val_auc_1: 0.4923 - lr: 1.0000e-04\n",
            "Epoch 16/35\n",
            "453/453 [==============================] - 126s 277ms/step - loss: 1.1166 - auc_1: 0.9995 - val_loss: 0.9084 - val_auc_1: 1.0000 - lr: 1.0000e-05\n",
            "Epoch 17/35\n",
            "453/453 [==============================] - 125s 276ms/step - loss: 0.7728 - auc_1: 1.0000 - val_loss: 0.6421 - val_auc_1: 1.0000 - lr: 1.0000e-05\n",
            "Epoch 18/35\n",
            "453/453 [==============================] - 125s 276ms/step - loss: 0.5456 - auc_1: 1.0000 - val_loss: 0.4458 - val_auc_1: 1.0000 - lr: 1.0000e-05\n",
            "Epoch 19/35\n",
            "453/453 [==============================] - 125s 276ms/step - loss: 0.3768 - auc_1: 1.0000 - val_loss: 0.3038 - val_auc_1: 1.0000 - lr: 1.0000e-05\n",
            "Epoch 20/35\n",
            "453/453 [==============================] - 125s 276ms/step - loss: 0.2530 - auc_1: 0.9999 - val_loss: 0.2047 - val_auc_1: 1.0000 - lr: 1.0000e-05\n",
            "Epoch 21/35\n",
            "453/453 [==============================] - 125s 277ms/step - loss: 0.1750 - auc_1: 1.0000 - val_loss: 0.1469 - val_auc_1: 1.0000 - lr: 1.0000e-05\n",
            "Epoch 22/35\n",
            "453/453 [==============================] - 125s 276ms/step - loss: 0.1235 - auc_1: 1.0000 - val_loss: 0.0976 - val_auc_1: 1.0000 - lr: 1.0000e-05\n",
            "Epoch 23/35\n",
            "453/453 [==============================] - 125s 276ms/step - loss: 0.0843 - auc_1: 1.0000 - val_loss: 0.0655 - val_auc_1: 1.0000 - lr: 1.0000e-05\n",
            "Epoch 24/35\n",
            "453/453 [==============================] - 125s 276ms/step - loss: 0.0643 - auc_1: 1.0000 - val_loss: 0.0572 - val_auc_1: 1.0000 - lr: 1.0000e-05\n",
            "Epoch 25/35\n",
            "453/453 [==============================] - 125s 277ms/step - loss: 0.0580 - auc_1: 1.0000 - val_loss: 0.0528 - val_auc_1: 1.0000 - lr: 1.0000e-05\n",
            "Epoch 26/35\n",
            "453/453 [==============================] - 125s 276ms/step - loss: 0.0483 - auc_1: 1.0000 - val_loss: 0.0545 - val_auc_1: 1.0000 - lr: 1.0000e-05\n",
            "Epoch 27/35\n",
            "453/453 [==============================] - 125s 276ms/step - loss: 0.0447 - auc_1: 1.0000 - val_loss: 0.0327 - val_auc_1: 1.0000 - lr: 1.0000e-05\n",
            "Epoch 28/35\n",
            "453/453 [==============================] - 125s 276ms/step - loss: 0.0431 - auc_1: 1.0000 - val_loss: 0.0547 - val_auc_1: 1.0000 - lr: 1.0000e-05\n",
            "Epoch 29/35\n",
            "453/453 [==============================] - 125s 276ms/step - loss: 0.0476 - auc_1: 1.0000 - val_loss: 0.0786 - val_auc_1: 1.0000 - lr: 1.0000e-05\n",
            "Epoch 30/35\n",
            "453/453 [==============================] - 125s 276ms/step - loss: 0.0532 - auc_1: 1.0000 - val_loss: 0.0384 - val_auc_1: 1.0000 - lr: 1.0000e-05\n",
            "Epoch 31/35\n",
            "453/453 [==============================] - 125s 276ms/step - loss: 0.0341 - auc_1: 1.0000 - val_loss: 0.0301 - val_auc_1: 1.0000 - lr: 1.0000e-06\n",
            "Epoch 32/35\n",
            "453/453 [==============================] - 125s 277ms/step - loss: 0.0300 - auc_1: 1.0000 - val_loss: 0.0267 - val_auc_1: 1.0000 - lr: 1.0000e-06\n",
            "Epoch 33/35\n",
            "453/453 [==============================] - 125s 276ms/step - loss: 0.0258 - auc_1: 1.0000 - val_loss: 0.0226 - val_auc_1: 1.0000 - lr: 1.0000e-06\n",
            "Epoch 34/35\n",
            "453/453 [==============================] - 125s 277ms/step - loss: 0.0228 - auc_1: 1.0000 - val_loss: 0.0197 - val_auc_1: 1.0000 - lr: 1.0000e-06\n",
            "Epoch 35/35\n",
            "453/453 [==============================] - 125s 277ms/step - loss: 0.0217 - auc_1: 1.0000 - val_loss: 0.0199 - val_auc_1: 1.0000 - lr: 1.0000e-06\n"
          ]
        }
      ]
    },
    {
      "cell_type": "code",
      "source": [
        "# Lets see our validation and training loss .\n",
        "\n",
        "plt.figure(figsize = (6,4))\n",
        "plt.title('Loss')\n",
        "plt.plot(history.history['loss'], label='train')\n",
        "plt.plot(history.history['val_loss'], label='Validation')\n",
        "plt.legend()"
      ],
      "metadata": {
        "colab": {
          "base_uri": "https://localhost:8080/",
          "height": 419
        },
        "id": "2bo47QCOh700",
        "outputId": "066076d2-da35-46fd-9f54-11b6c6571d63"
      },
      "execution_count": null,
      "outputs": [
        {
          "output_type": "execute_result",
          "data": {
            "text/plain": [
              "<matplotlib.legend.Legend at 0x7fd563cd64a0>"
            ]
          },
          "metadata": {},
          "execution_count": 39
        },
        {
          "output_type": "display_data",
          "data": {
            "text/plain": [
              "<Figure size 600x400 with 1 Axes>"
            ],
            "image/png": "[encoded data removed]"
          },
          "metadata": {}
        }
      ]
    },
    {
      "cell_type": "code",
      "source": [
        "model.evaluate(X_test,y_test)"
      ],
      "metadata": {
        "id": "egEdqHSU2xNC",
        "colab": {
          "base_uri": "https://localhost:8080/"
        },
        "outputId": "01f0e333-3022-436f-e176-154fc084e5e9"
      },
      "execution_count": null,
      "outputs": [
        {
          "output_type": "stream",
          "name": "stdout",
          "text": [
            "2/2 [==============================] - 0s 34ms/step - loss: 0.0187 - auc_1: 1.0000\n"
          ]
        },
        {
          "output_type": "execute_result",
          "data": {
            "text/plain": [
              "[0.01867709308862686, 1.0]"
            ]
          },
          "metadata": {},
          "execution_count": 46
        }
      ]
    },
    {
      "cell_type": "code",
      "source": [
        "# Save the model architecture as JSON\n",
        "#model.summary()"
      ],
      "metadata": {
        "id": "uaok9PtM4qio"
      },
      "execution_count": null,
      "outputs": []
    },
    {
      "cell_type": "code",
      "source": [
        "#Prediction and Checking\n",
        "y_pred= model.predict(X_test)\n",
        "y_pred"
      ],
      "metadata": {
        "id": "nc8nrlZrBqoi",
        "colab": {
          "base_uri": "https://localhost:8080/"
        },
        "outputId": "f988db70-42ce-431e-ac2d-153f2ace329c"
      },
      "execution_count": null,
      "outputs": [
        {
          "output_type": "stream",
          "name": "stdout",
          "text": [
            "2/2 [==============================] - 0s 121ms/step\n"
          ]
        },
        {
          "output_type": "execute_result",
          "data": {
            "text/plain": [
              "array([[1.10223430e-12, 5.27681902e-13, 2.53608050e-12, 1.00000000e+00,\n",
              "        8.52589050e-13, 4.81165997e-13],\n",
              "       [9.99998212e-01, 4.81574261e-07, 4.15595338e-07, 5.42228236e-07,\n",
              "        1.55516872e-07, 2.37522158e-07],\n",
              "       [4.89124541e-05, 1.01424803e-05, 3.43010652e-05, 7.61041665e-05,\n",
              "        9.99762952e-01, 6.75833726e-05],\n",
              "       [3.88568927e-10, 4.06767314e-10, 8.38135505e-10, 2.11163487e-09,\n",
              "        1.00000000e+00, 2.02250217e-09],\n",
              "       [9.41714371e-13, 1.81252409e-12, 1.04333567e-12, 8.88214936e-12,\n",
              "        1.00000000e+00, 3.16446131e-12],\n",
              "       [7.29876660e-07, 2.33561963e-07, 1.68528902e-06, 9.99995112e-01,\n",
              "        1.03031448e-06, 1.18648074e-06],\n",
              "       [6.34316066e-08, 9.99999523e-01, 1.52312879e-07, 5.53735333e-08,\n",
              "        3.07817665e-08, 6.40728999e-08],\n",
              "       [6.30124305e-07, 9.99994040e-01, 1.99154374e-06, 1.66729956e-06,\n",
              "        4.46830114e-07, 1.21599987e-06],\n",
              "       [2.24215720e-14, 3.51684586e-15, 8.01934135e-14, 3.12882776e-13,\n",
              "        7.93535647e-13, 1.00000000e+00],\n",
              "       [1.82875112e-04, 9.99021530e-01, 2.66918883e-04, 2.25592885e-04,\n",
              "        1.48052291e-04, 1.54935231e-04],\n",
              "       [5.59208493e-05, 9.99491096e-01, 7.21663382e-05, 2.66224059e-04,\n",
              "        6.49951544e-05, 4.95872773e-05],\n",
              "       [9.90094244e-01, 7.46312132e-03, 4.11791989e-04, 1.21705350e-03,\n",
              "        4.61155025e-04, 3.52616917e-04],\n",
              "       [9.99960780e-01, 1.76720823e-05, 9.04478293e-06, 6.16907710e-06,\n",
              "        2.79243045e-06, 3.49973811e-06],\n",
              "       [9.24925698e-05, 1.93397485e-04, 2.03753661e-04, 8.47522402e-04,\n",
              "        9.98327911e-01, 3.34867858e-04],\n",
              "       [1.23001610e-06, 9.99992371e-01, 1.38562552e-06, 2.60754496e-06,\n",
              "        1.38263567e-06, 1.17782372e-06],\n",
              "       [1.54790207e-08, 5.97395866e-09, 1.31407347e-08, 3.77050497e-08,\n",
              "        9.99999762e-01, 1.01975246e-07],\n",
              "       [1.43074612e-05, 1.15329585e-05, 5.79903053e-06, 1.92980151e-05,\n",
              "        9.99851704e-01, 9.73975039e-05],\n",
              "       [1.49912000e-06, 9.99991298e-01, 1.41236558e-06, 2.18004016e-06,\n",
              "        2.39190467e-06, 1.20765492e-06],\n",
              "       [4.05223545e-06, 1.67600706e-06, 4.08847563e-06, 2.38312823e-05,\n",
              "        9.99927282e-01, 3.90896566e-05],\n",
              "       [4.51360199e-11, 8.35480851e-11, 1.00000000e+00, 1.16882548e-09,\n",
              "        2.11522033e-11, 3.47122470e-10],\n",
              "       [1.00000000e+00, 1.57036262e-09, 4.51290028e-09, 8.70734240e-09,\n",
              "        1.03642894e-09, 1.91473126e-09],\n",
              "       [2.37687170e-12, 7.63576919e-13, 5.70099220e-12, 3.44582592e-11,\n",
              "        1.00000000e+00, 2.54146669e-11],\n",
              "       [8.47654320e-08, 3.82026215e-08, 1.19047982e-07, 6.66307187e-07,\n",
              "        9.99998689e-01, 3.89312362e-07],\n",
              "       [1.75828996e-09, 8.86825946e-10, 6.01795547e-09, 1.19598038e-08,\n",
              "        1.00000000e+00, 3.00248217e-08],\n",
              "       [9.99996424e-01, 2.34385851e-07, 5.76685693e-07, 7.76508443e-07,\n",
              "        1.86120104e-07, 1.84485930e-06],\n",
              "       [1.00000000e+00, 3.18109605e-09, 3.90501631e-09, 4.31561320e-09,\n",
              "        1.75785408e-09, 5.96406613e-09],\n",
              "       [5.03211250e-09, 4.73452344e-09, 9.17926002e-09, 5.96671939e-08,\n",
              "        9.99999762e-01, 7.62440564e-08],\n",
              "       [4.84001134e-07, 6.69484308e-08, 2.68998008e-07, 1.15435114e-06,\n",
              "        6.73221166e-07, 9.99997258e-01],\n",
              "       [1.35185055e-05, 5.09923775e-05, 9.99807894e-01, 4.52434469e-05,\n",
              "        1.96368655e-05, 6.26817564e-05],\n",
              "       [2.77298284e-07, 4.09147816e-07, 9.99998212e-01, 3.07423136e-07,\n",
              "        2.52082145e-07, 4.73313463e-07],\n",
              "       [9.99999762e-01, 1.28752200e-08, 2.44253258e-08, 3.93070856e-08,\n",
              "        4.81809046e-08, 3.25957963e-08],\n",
              "       [8.81741357e-07, 8.18674664e-07, 1.89753791e-06, 9.99961019e-01,\n",
              "        3.48785543e-05, 5.01161651e-07],\n",
              "       [1.68428071e-09, 4.10913470e-10, 4.15147206e-09, 1.00000000e+00,\n",
              "        1.40321399e-09, 1.23741595e-09],\n",
              "       [1.90457490e-06, 6.16873967e-06, 9.99980450e-01, 3.34205924e-06,\n",
              "        2.35863718e-06, 5.70901602e-06]], dtype=float32)"
            ]
          },
          "metadata": {},
          "execution_count": 50
        }
      ]
    },
    {
      "cell_type": "code",
      "source": [
        "# len(y_pred): 34   0\n",
        "Predictions = []\n",
        "for i in range(34):\n",
        "  x= np.argmax(y_pred[i])\n",
        "  Predictions.append(x)\n",
        "\n",
        "print(Predictions)"
      ],
      "metadata": {
        "id": "CRY-Gg3ECYcu",
        "colab": {
          "base_uri": "https://localhost:8080/"
        },
        "outputId": "64d2942e-a7b6-4872-dbcd-13f0e4490d38"
      },
      "execution_count": null,
      "outputs": [
        {
          "output_type": "stream",
          "name": "stdout",
          "text": [
            "[3, 0, 4, 4, 4, 3, 1, 1, 5, 1, 1, 0, 0, 4, 1, 4, 4, 1, 4, 2, 0, 4, 4, 4, 0, 0, 4, 5, 2, 2, 0, 3, 3, 2]\n"
          ]
        }
      ]
    },
    {
      "cell_type": "markdown",
      "source": [
        "#Evaluating sensitivity , specificity and accuracy"
      ],
      "metadata": {
        "id": "Y1rOgbjYegZD"
      }
    },
    {
      "cell_type": "code",
      "source": [
        "# Make predictions on the test dataset\n",
        "y_pred = model.predict(X_test)\n",
        "\n",
        "# Convert predicted probabilities to class labels\n",
        "y_pred_classes = tf.argmax(y_pred, axis=1)\n",
        "y_test_classes = tf.argmax(y_test, axis=1)\n",
        "\n",
        "# Calculate True Positives, False Positives, True Negatives, and False Negatives\n",
        "TP = tf.keras.metrics.TruePositives()\n",
        "TP.update_state(y_test_classes, y_pred_classes)\n",
        "\n",
        "FP = tf.keras.metrics.FalsePositives()\n",
        "FP.update_state(y_test_classes, y_pred_classes)\n",
        "\n",
        "TN = tf.keras.metrics.TrueNegatives()\n",
        "TN.update_state(y_test_classes, y_pred_classes)\n",
        "\n",
        "FN = tf.keras.metrics.FalseNegatives()\n",
        "FN.update_state(y_test_classes, y_pred_classes)\n",
        "\n",
        "# Calculate sensitivity (True Positive Rate)\n",
        "sensitivity = TP.result() / (TP.result() + FN.result())\n",
        "\n",
        "# Calculate specificity (True Negative Rate)\n",
        "specificity = TN.result() / (TN.result() + FP.result())\n",
        "\n",
        "# Calculate accuracy\n",
        "accuracy = (TP.result() + TN.result()) / (TP.result() + FP.result() + TN.result() + FN.result())\n",
        "\n",
        "print(\"Sensitivity:\", sensitivity.numpy())\n",
        "print(\"Specificity:\", specificity.numpy())\n",
        "print(\"Accuracy:\", accuracy.numpy())"
      ],
      "metadata": {
        "colab": {
          "base_uri": "https://localhost:8080/"
        },
        "id": "_mqLfL1weNb7",
        "outputId": "5302fbd8-408a-49bf-b521-779bb886b171"
      },
      "execution_count": null,
      "outputs": [
        {
          "output_type": "stream",
          "name": "stdout",
          "text": [
            "2/2 [==============================] - 0s 121ms/step\n",
            "Sensitivity: 1.0\n",
            "Specificity: 1.0\n",
            "Accuracy: 1.0\n"
          ]
        }
      ]
    },
    {
      "cell_type": "markdown",
      "source": [
        "# ROC curve\n",
        "An ROC curve (receiver operating characteristic curve) is a graph showing the performance of a classification model at all classification thresholds. This curve plots two parameters [developers.google]"
      ],
      "metadata": {
        "id": "0mrzEEJUXn3X"
      }
    },
    {
      "cell_type": "code",
      "source": [
        "#Next ROC Curve :\n",
        "\n",
        "y_test=np.reshape(y_test,(34*6))\n",
        "predict=np.reshape(y_pred,(34*6))\n",
        "from sklearn.metrics import roc_curve\n",
        "from sklearn.metrics import roc_auc_score\n",
        "\n",
        "# keep probabilities for the positive outcome only\n",
        "ns_probs = [0 for _ in range(len(y_test))]\n",
        "\n",
        "\n",
        "# calculate scores\n",
        "ns_auc = roc_auc_score(y_test, ns_probs)\n",
        "lr_auc = roc_auc_score(y_test, predict)\n",
        "\n",
        "\n",
        "# summarize scores\n",
        "print('No Skill: ROC AUC=%.3f' % (ns_auc))\n",
        "print('Model: ROC AUC=%.3f' % (lr_auc))\n",
        "\n",
        "\n",
        "# calculate roc curves\n",
        "ns_fpr, ns_tpr, _ = roc_curve(y_test, ns_probs)\n",
        "lr_fpr, lr_tpr, _ = roc_curve(y_test, predict)\n",
        "\n",
        "\n",
        "# plot the roc curve for the model\n",
        "plt.figure(figsize = (8,6))\n",
        "plt.title(\"ROC Curve\",fontsize = 40)\n",
        "plt.plot(ns_fpr, ns_tpr,label='No Skill')\n",
        "plt.plot(lr_fpr, lr_tpr, label='Model')\n",
        "\n",
        "\n",
        "# axis labels\n",
        "plt.xlabel('False Positive Rate')\n",
        "plt.ylabel('True Positive Rate')\n",
        "plt.rcParams[\"font.size\"] = \"15\"\n",
        "\n",
        "# show the legend\n",
        "plt.legend()\n",
        "\n",
        "# show the plot\n",
        "plt.show()"
      ],
      "metadata": {
        "id": "JUptZtySWZ1_",
        "colab": {
          "base_uri": "https://localhost:8080/",
          "height": 643
        },
        "outputId": "a4ebceea-33b6-4232-f327-f0e6fb014255"
      },
      "execution_count": null,
      "outputs": [
        {
          "output_type": "stream",
          "name": "stdout",
          "text": [
            "No Skill: ROC AUC=0.500\n",
            "Model: ROC AUC=1.000\n"
          ]
        },
        {
          "output_type": "display_data",
          "data": {
            "text/plain": [
              "<Figure size 800x600 with 1 Axes>"
            ],
            "image/png": "[encoded data removed]"
          },
          "metadata": {}
        }
      ]
    }
  ]
}